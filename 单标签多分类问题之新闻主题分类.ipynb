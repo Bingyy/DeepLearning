{
  "nbformat": 4,
  "nbformat_minor": 0,
  "metadata": {
    "colab": {
      "name": "单标签多分类问题之新闻主题分类.ipynb",
      "version": "0.3.2",
      "provenance": [],
      "collapsed_sections": [],
      "include_colab_link": true
    },
    "kernelspec": {
      "name": "python3",
      "display_name": "Python 3"
    }
  },
  "cells": [
    {
      "cell_type": "markdown",
      "metadata": {
        "id": "view-in-github",
        "colab_type": "text"
      },
      "source": [
        "<a href=\"https://colab.research.google.com/github/Bingyy/DeepLearning/blob/master/%E5%8D%95%E6%A0%87%E7%AD%BE%E5%A4%9A%E5%88%86%E7%B1%BB%E9%97%AE%E9%A2%98%E4%B9%8B%E6%96%B0%E9%97%BB%E4%B8%BB%E9%A2%98%E5%88%86%E7%B1%BB.ipynb\" target=\"_parent\"><img src=\"https://colab.research.google.com/assets/colab-badge.svg\" alt=\"Open In Colab\"/></a>"
      ]
    },
    {
      "metadata": {
        "id": "9ZG3K-GHKo1s",
        "colab_type": "text"
      },
      "cell_type": "markdown",
      "source": [
        "### 问题解释\n",
        "\n",
        "每个数据点只能划分到一个类别，但是类别总数大于2个，这类问题称之为单标签，多分类。如果每个数据点可以划分到多个类别，则就是另一个问题：多标签，多分类。\n",
        "\n",
        "### 数据集\n",
        "\n",
        "使用路透社数据集，其中包含很多短新闻和对应的主题，文本分类数据集。总共有46个不同的主题，每个主题至少有10个样本，有些主题样本会更多。\n",
        "\n",
        "数据集是Keras内置的一部分，直接用即可。"
      ]
    },
    {
      "metadata": {
        "id": "bxgzjK37Kcdd",
        "colab_type": "code",
        "colab": {
          "base_uri": "https://localhost:8080/",
          "height": 68
        },
        "outputId": "2ea6e02e-4814-4348-9e30-bee9a19c4a46"
      },
      "cell_type": "code",
      "source": [
        "# 加载数据\n",
        "from keras.datasets import reuters\n",
        "(train_data, train_labels), (test_data, test_labels) = reuters.load_data(num_words=10000) # num_words=10000，将数据限定为前10000个最长出现的单词"
      ],
      "execution_count": 1,
      "outputs": [
        {
          "output_type": "stream",
          "text": [
            "Using TensorFlow backend.\n"
          ],
          "name": "stderr"
        },
        {
          "output_type": "stream",
          "text": [
            "Downloading data from https://s3.amazonaws.com/text-datasets/reuters.npz\n",
            "2113536/2110848 [==============================] - 0s 0us/step\n"
          ],
          "name": "stdout"
        }
      ]
    },
    {
      "metadata": {
        "id": "xPk-7qQ1Ljj9",
        "colab_type": "code",
        "colab": {
          "base_uri": "https://localhost:8080/",
          "height": 34
        },
        "outputId": "ae9636ca-e5f2-4356-c177-59217f78b9b8"
      },
      "cell_type": "code",
      "source": [
        "train_data.shape"
      ],
      "execution_count": 2,
      "outputs": [
        {
          "output_type": "execute_result",
          "data": {
            "text/plain": [
              "(8982,)"
            ]
          },
          "metadata": {
            "tags": []
          },
          "execution_count": 2
        }
      ]
    },
    {
      "metadata": {
        "id": "35uv5okGLlRU",
        "colab_type": "code",
        "colab": {
          "base_uri": "https://localhost:8080/",
          "height": 34
        },
        "outputId": "7a73ae3a-3172-471b-a410-0ee6e86b28fe"
      },
      "cell_type": "code",
      "source": [
        "test_data.shape"
      ],
      "execution_count": 3,
      "outputs": [
        {
          "output_type": "execute_result",
          "data": {
            "text/plain": [
              "(2246,)"
            ]
          },
          "metadata": {
            "tags": []
          },
          "execution_count": 3
        }
      ]
    },
    {
      "metadata": {
        "id": "9ISprOuxLnHP",
        "colab_type": "code",
        "colab": {
          "base_uri": "https://localhost:8080/",
          "height": 173
        },
        "outputId": "f4b3d585-f129-4bc3-ce2f-af9a906aa589"
      },
      "cell_type": "code",
      "source": [
        "train_data # 每个样本是一个list，表示单词索引"
      ],
      "execution_count": 5,
      "outputs": [
        {
          "output_type": "execute_result",
          "data": {
            "text/plain": [
              "array([list([1, 2, 2, 8, 43, 10, 447, 5, 25, 207, 270, 5, 3095, 111, 16, 369, 186, 90, 67, 7, 89, 5, 19, 102, 6, 19, 124, 15, 90, 67, 84, 22, 482, 26, 7, 48, 4, 49, 8, 864, 39, 209, 154, 6, 151, 6, 83, 11, 15, 22, 155, 11, 15, 7, 48, 9, 4579, 1005, 504, 6, 258, 6, 272, 11, 15, 22, 134, 44, 11, 15, 16, 8, 197, 1245, 90, 67, 52, 29, 209, 30, 32, 132, 6, 109, 15, 17, 12]),\n",
              "       list([1, 3267, 699, 3434, 2295, 56, 2, 7511, 9, 56, 3906, 1073, 81, 5, 1198, 57, 366, 737, 132, 20, 4093, 7, 2, 49, 2295, 2, 1037, 3267, 699, 3434, 8, 7, 10, 241, 16, 855, 129, 231, 783, 5, 4, 587, 2295, 2, 2, 775, 7, 48, 34, 191, 44, 35, 1795, 505, 17, 12]),\n",
              "       list([1, 53, 12, 284, 15, 14, 272, 26, 53, 959, 32, 818, 15, 14, 272, 26, 39, 684, 70, 11, 14, 12, 3886, 18, 180, 183, 187, 70, 11, 14, 102, 32, 11, 29, 53, 44, 704, 15, 14, 19, 758, 15, 53, 959, 47, 1013, 15, 14, 19, 132, 15, 39, 965, 32, 11, 14, 147, 72, 11, 180, 183, 187, 44, 11, 14, 102, 19, 11, 123, 186, 90, 67, 960, 4, 78, 13, 68, 467, 511, 110, 59, 89, 90, 67, 1390, 55, 2678, 92, 617, 80, 1274, 46, 905, 220, 13, 4, 346, 48, 235, 629, 5, 211, 5, 1118, 7, 2, 81, 5, 187, 11, 15, 9, 1709, 201, 5, 47, 3615, 18, 478, 4514, 5, 1118, 7, 232, 2, 71, 5, 160, 63, 11, 9, 2, 81, 5, 102, 59, 11, 17, 12]),\n",
              "       ...,\n",
              "       list([1, 141, 3890, 387, 81, 8, 16, 1629, 10, 340, 1241, 850, 31, 56, 3890, 691, 9, 1241, 71, 9, 5985, 2, 2, 699, 2, 2, 2, 699, 244, 5945, 4, 49, 8, 4, 656, 850, 33, 2993, 9, 2139, 340, 3371, 1493, 9, 2, 22, 2, 1094, 687, 83, 35, 15, 257, 6, 57, 9190, 7, 4, 5956, 654, 5, 2, 6191, 1371, 4, 49, 8, 16, 369, 646, 6, 1076, 7, 124, 407, 17, 12]),\n",
              "       list([1, 53, 46, 957, 26, 14, 74, 132, 26, 39, 46, 258, 3614, 18, 14, 74, 134, 5131, 18, 88, 2321, 72, 11, 14, 1842, 32, 11, 123, 383, 89, 39, 46, 235, 10, 864, 728, 5, 258, 44, 11, 15, 22, 753, 9, 42, 92, 131, 728, 5, 69, 312, 11, 15, 22, 222, 2, 3237, 383, 48, 39, 74, 235, 10, 864, 276, 5, 61, 32, 11, 15, 21, 4, 211, 5, 126, 1072, 42, 92, 131, 46, 19, 352, 11, 15, 22, 710, 220, 9, 42, 92, 131, 276, 5, 59, 61, 11, 15, 22, 10, 455, 7, 1172, 137, 336, 1325, 6, 1532, 142, 971, 6463, 43, 359, 5, 4, 326, 753, 364, 17, 12]),\n",
              "       list([1, 227, 2406, 91, 2, 125, 2855, 21, 4, 3976, 76, 7, 4, 757, 481, 3976, 790, 5259, 5654, 9, 111, 149, 8, 7, 10, 76, 223, 51, 4, 417, 8, 1047, 91, 6917, 1688, 340, 7, 194, 9411, 6, 1894, 21, 127, 2151, 2394, 1456, 6, 3034, 4, 329, 433, 7, 65, 87, 1127, 10, 8219, 1475, 290, 9, 21, 567, 16, 1926, 24, 4, 76, 209, 30, 4033, 6655, 5654, 8, 4, 60, 8, 4, 966, 308, 40, 2575, 129, 2, 295, 277, 1071, 9, 24, 286, 2114, 234, 222, 9, 4, 906, 3994, 8519, 114, 5758, 1752, 7, 4, 113, 17, 12])],\n",
              "      dtype=object)"
            ]
          },
          "metadata": {
            "tags": []
          },
          "execution_count": 5
        }
      ]
    },
    {
      "metadata": {
        "id": "lzoFNN38Lzug",
        "colab_type": "code",
        "colab": {
          "base_uri": "https://localhost:8080/",
          "height": 51
        },
        "outputId": "fdb571e0-e34f-480b-9315-e11c7a21a754"
      },
      "cell_type": "code",
      "source": [
        "# 索引解码\n",
        "word_index = reuters.get_word_index()"
      ],
      "execution_count": 6,
      "outputs": [
        {
          "output_type": "stream",
          "text": [
            "Downloading data from https://s3.amazonaws.com/text-datasets/reuters_word_index.json\n",
            "557056/550378 [==============================] - 1s 2us/step\n"
          ],
          "name": "stdout"
        }
      ]
    },
    {
      "metadata": {
        "id": "nL9l1thPL_ws",
        "colab_type": "code",
        "colab": {
          "base_uri": "https://localhost:8080/",
          "height": 54
        },
        "outputId": "f09cccb3-82d5-4fd2-f115-021fa6520989"
      },
      "cell_type": "code",
      "source": [
        "reverse_word_index = dict([(value, key) for (key, value) in word_index.items()]) # 键值翻转\n",
        "decode_review = ' '.join([reverse_word_index.get(i-3, '?') for i in train_data[0]]) # 评论解码，索引去掉3，0为填充，1为序列开始，2位unknown\n",
        "\n",
        "decode_review"
      ],
      "execution_count": 13,
      "outputs": [
        {
          "output_type": "execute_result",
          "data": {
            "text/plain": [
              "'? ? ? said as a result of its december acquisition of space co it expects earnings per share in 1987 of 1 15 to 1 30 dlrs per share up from 70 cts in 1986 the company said pretax net should rise to nine to 10 mln dlrs from six mln dlrs in 1986 and rental operation revenues to 19 to 22 mln dlrs from 12 5 mln dlrs it said cash flow per share this year should be 2 50 to three dlrs reuter 3'"
            ]
          },
          "metadata": {
            "tags": []
          },
          "execution_count": 13
        }
      ]
    },
    {
      "metadata": {
        "id": "-Pn7qF17Mdn0",
        "colab_type": "code",
        "colab": {
          "base_uri": "https://localhost:8080/",
          "height": 34
        },
        "outputId": "c32c592f-b54b-4a17-9fec-cef8515cda93"
      },
      "cell_type": "code",
      "source": [
        "train_labels[0]"
      ],
      "execution_count": 17,
      "outputs": [
        {
          "output_type": "execute_result",
          "data": {
            "text/plain": [
              "3"
            ]
          },
          "metadata": {
            "tags": []
          },
          "execution_count": 17
        }
      ]
    },
    {
      "metadata": {
        "id": "c4mY_POsMBRb",
        "colab_type": "code",
        "colab": {}
      },
      "cell_type": "code",
      "source": [
        "# 数据准备\n",
        "import numpy as np\n",
        "def vectorize_sequences(sequences, dimension=10000):\n",
        "  results = np.zeros((len(sequences), dimension))\n",
        "  for i, sequence in enumerate(sequences):\n",
        "    results[i, sequence] = 1\n",
        "  return results\n",
        "\n",
        "x_train = vectorize_sequences(train_data)\n",
        "x_test = vectorize_sequences(test_data)"
      ],
      "execution_count": 0,
      "outputs": []
    },
    {
      "metadata": {
        "id": "I9_LOJVWNI9d",
        "colab_type": "code",
        "colab": {
          "base_uri": "https://localhost:8080/",
          "height": 34
        },
        "outputId": "1e018d84-0a45-4c15-e07b-0af2d8865cd3"
      },
      "cell_type": "code",
      "source": [
        "x_train.shape"
      ],
      "execution_count": 19,
      "outputs": [
        {
          "output_type": "execute_result",
          "data": {
            "text/plain": [
              "(8982, 10000)"
            ]
          },
          "metadata": {
            "tags": []
          },
          "execution_count": 19
        }
      ]
    },
    {
      "metadata": {
        "id": "QaOyQZF3NNKW",
        "colab_type": "text"
      },
      "cell_type": "markdown",
      "source": [
        "### 向量化数据的解释\n",
        "\n",
        "因为原始数据最外层是个一维数组，组成元素是list，我们需要的是二维数组形式的数据，所以需要把list拆出来，但是每个list长度不同，我们总共用10000个单词，基于one-hot编码，使得数据规整，列为10000即可。只有标签对应的元素存在才把对应的元素设定为1.\n",
        "\n",
        "### 标签数据的向量化\n",
        "\n",
        "和上面的原理相同。"
      ]
    },
    {
      "metadata": {
        "id": "MnMXT6gsNLQR",
        "colab_type": "code",
        "colab": {}
      },
      "cell_type": "code",
      "source": [
        "def to_one_hot(labels, dimension=46):\n",
        "  results = np.zeros((len(labels), dimension))\n",
        "  for i, label in enumerate(labels):\n",
        "    results[i, label] = 1.\n",
        "  return results\n",
        "\n",
        "one_hot_train_labels = to_one_hot(train_labels)\n",
        "one_hot_test_labels = to_one_hot(test_labels)"
      ],
      "execution_count": 0,
      "outputs": []
    },
    {
      "metadata": {
        "id": "EiAV9ALiOcYl",
        "colab_type": "code",
        "colab": {
          "base_uri": "https://localhost:8080/",
          "height": 34
        },
        "outputId": "91129605-b2f4-42cb-b558-0e279a8d60c6"
      },
      "cell_type": "code",
      "source": [
        "one_hot_train_labels[0].shape"
      ],
      "execution_count": 23,
      "outputs": [
        {
          "output_type": "execute_result",
          "data": {
            "text/plain": [
              "(46,)"
            ]
          },
          "metadata": {
            "tags": []
          },
          "execution_count": 23
        }
      ]
    },
    {
      "metadata": {
        "id": "zY-PoeBHOd_R",
        "colab_type": "code",
        "colab": {}
      },
      "cell_type": "code",
      "source": [
        "# 上面是手工实现，其实也可以哟经Keras内置方法来做\n",
        "\n",
        "# from keras.utils.np_utils import to_categorical\n",
        "# one_hot_train_labels = to_categorical(train_labels)\n",
        "# one_hot_test_labels = to_categorical(test_labels)"
      ],
      "execution_count": 0,
      "outputs": []
    },
    {
      "metadata": {
        "id": "_WrLL4tdO_34",
        "colab_type": "code",
        "colab": {}
      },
      "cell_type": "code",
      "source": [
        "# 模型定义\n",
        "from keras import models\n",
        "from keras import layers\n",
        "\n",
        "model = models.Sequential()\n",
        "model.add(layers.Dense(64, activation='relu', input_shape=(10000,)))\n",
        "model.add(layers.Dense(64,activation='relu'))\n",
        "model.add(layers.Dense(46, activation='softmax'))"
      ],
      "execution_count": 0,
      "outputs": []
    },
    {
      "metadata": {
        "id": "twl97HeOPew0",
        "colab_type": "text"
      },
      "cell_type": "markdown",
      "source": [
        "### 模型解释\n",
        "\n",
        "最后一层大小是46的Dense层，每个输入样本，网络都会输出一个46维的向量，每个元素代表不同的输出类别。而在最后一层使用的是softmax激活层，给出不同输出类别的概率值。\n",
        "\n",
        "多分类问题最好的损失函数是categorical_crossentropy，即分类交叉熵函数。分类交叉熵函数可以用来衡量两个概率分布之间的距离，通过将两个分布的距离最小化，训练网络就能够将输出结果尽可能接近真实标签。"
      ]
    },
    {
      "metadata": {
        "id": "w4dhWBkGPcWs",
        "colab_type": "code",
        "colab": {}
      },
      "cell_type": "code",
      "source": [
        "# 编译模型，\n",
        "# 配置损失函数和优化器\n",
        "\n",
        "model.compile(optimizer='rmsprop',\n",
        "             loss='categorical_crossentropy',\n",
        "             metrics=['accuracy'])"
      ],
      "execution_count": 0,
      "outputs": []
    },
    {
      "metadata": {
        "id": "tuDZDYO5Rgu9",
        "colab_type": "code",
        "colab": {}
      },
      "cell_type": "code",
      "source": [
        "# 留出验证集，从训练集中拿出来一部分做验证集，不是测试集\n",
        "x_val = x_train[:1000]\n",
        "partial_x_train = x_train[1000:]\n",
        "\n",
        "y_val = one_hot_train_labels[:1000]\n",
        "partial_y_train = one_hot_train_labels[1000:]"
      ],
      "execution_count": 0,
      "outputs": []
    },
    {
      "metadata": {
        "id": "vtmHwkADR3eJ",
        "colab_type": "code",
        "colab": {
          "base_uri": "https://localhost:8080/",
          "height": 714
        },
        "outputId": "9942c1c2-eaa4-4aec-d7d5-de34510299da"
      },
      "cell_type": "code",
      "source": [
        "# 训练模型\n",
        "history = model.fit(partial_x_train,partial_y_train, epochs=20, batch_size=512, validation_data=(x_val, y_val))"
      ],
      "execution_count": 28,
      "outputs": [
        {
          "output_type": "stream",
          "text": [
            "Train on 7982 samples, validate on 1000 samples\n",
            "Epoch 1/20\n",
            "7982/7982 [==============================] - 1s 184us/step - loss: 2.5320 - acc: 0.4955 - val_loss: 1.7195 - val_acc: 0.6120\n",
            "Epoch 2/20\n",
            "7982/7982 [==============================] - 1s 154us/step - loss: 1.4444 - acc: 0.6879 - val_loss: 1.3455 - val_acc: 0.7060\n",
            "Epoch 3/20\n",
            "7982/7982 [==============================] - 1s 154us/step - loss: 1.0953 - acc: 0.7653 - val_loss: 1.1717 - val_acc: 0.7430\n",
            "Epoch 4/20\n",
            "7982/7982 [==============================] - 1s 155us/step - loss: 0.8702 - acc: 0.8161 - val_loss: 1.0806 - val_acc: 0.7590\n",
            "Epoch 5/20\n",
            "7982/7982 [==============================] - 1s 149us/step - loss: 0.7037 - acc: 0.8475 - val_loss: 0.9852 - val_acc: 0.7830\n",
            "Epoch 6/20\n",
            "7982/7982 [==============================] - 1s 149us/step - loss: 0.5671 - acc: 0.8796 - val_loss: 0.9413 - val_acc: 0.8040\n",
            "Epoch 7/20\n",
            "7982/7982 [==============================] - 1s 149us/step - loss: 0.4584 - acc: 0.9043 - val_loss: 0.9080 - val_acc: 0.8010\n",
            "Epoch 8/20\n",
            "7982/7982 [==============================] - 1s 150us/step - loss: 0.3698 - acc: 0.9228 - val_loss: 0.9365 - val_acc: 0.7900\n",
            "Epoch 9/20\n",
            "7982/7982 [==============================] - 1s 149us/step - loss: 0.3036 - acc: 0.9311 - val_loss: 0.8930 - val_acc: 0.8060\n",
            "Epoch 10/20\n",
            "7982/7982 [==============================] - 1s 150us/step - loss: 0.2542 - acc: 0.9415 - val_loss: 0.9057 - val_acc: 0.8110\n",
            "Epoch 11/20\n",
            "7982/7982 [==============================] - 1s 150us/step - loss: 0.2187 - acc: 0.9468 - val_loss: 0.9174 - val_acc: 0.8130\n",
            "Epoch 12/20\n",
            "7982/7982 [==============================] - 1s 150us/step - loss: 0.1875 - acc: 0.9508 - val_loss: 0.9061 - val_acc: 0.8140\n",
            "Epoch 13/20\n",
            "7982/7982 [==============================] - 1s 150us/step - loss: 0.1701 - acc: 0.9528 - val_loss: 0.9325 - val_acc: 0.8090\n",
            "Epoch 14/20\n",
            "7982/7982 [==============================] - 1s 151us/step - loss: 0.1535 - acc: 0.9548 - val_loss: 0.9685 - val_acc: 0.8070\n",
            "Epoch 15/20\n",
            "7982/7982 [==============================] - 1s 151us/step - loss: 0.1389 - acc: 0.9560 - val_loss: 0.9700 - val_acc: 0.8150\n",
            "Epoch 16/20\n",
            "7982/7982 [==============================] - 1s 152us/step - loss: 0.1311 - acc: 0.9565 - val_loss: 1.0251 - val_acc: 0.8030\n",
            "Epoch 17/20\n",
            "7982/7982 [==============================] - 1s 150us/step - loss: 0.1217 - acc: 0.9578 - val_loss: 1.0263 - val_acc: 0.7980\n",
            "Epoch 18/20\n",
            "7982/7982 [==============================] - 1s 150us/step - loss: 0.1193 - acc: 0.9577 - val_loss: 1.0424 - val_acc: 0.8070\n",
            "Epoch 19/20\n",
            "7982/7982 [==============================] - 1s 150us/step - loss: 0.1138 - acc: 0.9590 - val_loss: 1.0988 - val_acc: 0.7960\n",
            "Epoch 20/20\n",
            "7982/7982 [==============================] - 1s 150us/step - loss: 0.1108 - acc: 0.9594 - val_loss: 1.0701 - val_acc: 0.8020\n"
          ],
          "name": "stdout"
        }
      ]
    },
    {
      "metadata": {
        "id": "aB3pk3mfSDRG",
        "colab_type": "code",
        "colab": {
          "base_uri": "https://localhost:8080/",
          "height": 34
        },
        "outputId": "4965450f-4c1d-41a3-e316-32036851afc2"
      },
      "cell_type": "code",
      "source": [
        "history.history.keys()"
      ],
      "execution_count": 33,
      "outputs": [
        {
          "output_type": "execute_result",
          "data": {
            "text/plain": [
              "dict_keys(['val_loss', 'val_acc', 'loss', 'acc'])"
            ]
          },
          "metadata": {
            "tags": []
          },
          "execution_count": 33
        }
      ]
    },
    {
      "metadata": {
        "id": "7EgBbqlbSN9h",
        "colab_type": "code",
        "colab": {
          "base_uri": "https://localhost:8080/",
          "height": 376
        },
        "outputId": "7836de5c-bfc9-435a-f46c-02db9a9eca99"
      },
      "cell_type": "code",
      "source": [
        "# 绘制训练损失和验证损失\n",
        "# 监控模型是否过拟合了\n",
        "\n",
        "import matplotlib.pyplot as plt\n",
        "\n",
        "loss = history.history['loss']\n",
        "val_loss = history.history['val_loss']\n",
        "\n",
        "epochs = range(1, len(loss) + 1)\n",
        "\n",
        "plt.plot(epochs, loss, 'bo', label='Training loss')\n",
        "plt.plot(epochs, val_loss, 'r', label='Validation loss')\n",
        "\n",
        "plt.title('Training and Validation loss')\n",
        "plt.xlabel('Epochs')\n",
        "plt.ylabel('Loss')\n",
        "plt.legend()\n",
        "\n",
        "plt.show()"
      ],
      "execution_count": 34,
      "outputs": [
        {
          "output_type": "display_data",
          "data": {
            "image/png": "[encoded data removed]",
            "text/plain": [
              "<matplotlib.figure.Figure at 0x7feccde1e8d0>"
            ]
          },
          "metadata": {
            "tags": []
          }
        }
      ]
    },
    {
      "metadata": {
        "id": "CFYgxI3hTFFB",
        "colab_type": "text"
      },
      "cell_type": "markdown",
      "source": [
        "### 分析\n",
        "\n",
        "我们从训练集中抽出一部分来验证模型训练效果，算是训练过程里的自我监督。\n",
        "\n",
        "\n",
        "从图中我们可以看到，大概在训练到10轮后，模型开始过拟合。所以我们可以选择在这个区间停止训练。\n",
        "\n"
      ]
    },
    {
      "metadata": {
        "id": "0pR3NszhS_WQ",
        "colab_type": "code",
        "colab": {
          "base_uri": "https://localhost:8080/",
          "height": 376
        },
        "outputId": "654e9b68-e772-4c43-ae85-5c85d4be7086"
      },
      "cell_type": "code",
      "source": [
        "# 绘制训练精度和验证精度\n",
        "plt.clf()\n",
        "\n",
        "acc = history.history['acc']\n",
        "val_acc = history.history['val_acc']\n",
        "\n",
        "epochs = range(1, len(acc) + 1)\n",
        "\n",
        "plt.plot(epochs, acc, 'bo', label='Training loss')\n",
        "plt.plot(epochs, val_acc, 'r', label='Validation loss')\n",
        "\n",
        "plt.title('Training and Validation loss')\n",
        "plt.xlabel('Epochs')\n",
        "plt.ylabel('Accuracy')\n",
        "plt.legend()\n",
        "\n",
        "plt.show()\n"
      ],
      "execution_count": 35,
      "outputs": [
        {
          "output_type": "display_data",
          "data": {
            "image/png": "[encoded data removed]",
            "text/plain": [
              "<matplotlib.figure.Figure at 0x7feccde1e198>"
            ]
          },
          "metadata": {
            "tags": []
          }
        }
      ]
    },
    {
      "metadata": {
        "id": "akc0_X-dT4nh",
        "colab_type": "code",
        "colab": {
          "base_uri": "https://localhost:8080/",
          "height": 391
        },
        "outputId": "46590d18-3fab-4efe-f7b4-60a7f240f7bd"
      },
      "cell_type": "code",
      "source": [
        "# 现在我们重新训练一个模型，只训练到第10轮\n",
        "\n",
        "model2 = models.Sequential()\n",
        "model2.add(layers.Dense(64, activation='relu', input_shape=(10000,)))\n",
        "model2.add(layers.Dense(64, activation='relu'))\n",
        "model2.add(layers.Dense(46, activation='softmax'))\n",
        "\n",
        "model2.compile(optimizer='rmsprop', loss='categorical_crossentropy', metrics=['accuracy'])\n",
        "\n",
        "model2.fit(partial_x_train,\n",
        "          partial_y_train,\n",
        "          epochs=10, \n",
        "          batch_size=512,\n",
        "          validation_data=(x_val, y_val))\n",
        "\n",
        "results = model.evaluate(x_test, one_hot_test_labels)"
      ],
      "execution_count": 36,
      "outputs": [
        {
          "output_type": "stream",
          "text": [
            "Train on 7982 samples, validate on 1000 samples\n",
            "Epoch 1/10\n",
            "7982/7982 [==============================] - 1s 178us/step - loss: 2.5393 - acc: 0.5226 - val_loss: 1.6724 - val_acc: 0.6580\n",
            "Epoch 2/10\n",
            "7982/7982 [==============================] - 1s 153us/step - loss: 1.3709 - acc: 0.7122 - val_loss: 1.2751 - val_acc: 0.7210\n",
            "Epoch 3/10\n",
            "7982/7982 [==============================] - 1s 155us/step - loss: 1.0147 - acc: 0.7785 - val_loss: 1.1318 - val_acc: 0.7500\n",
            "Epoch 4/10\n",
            "7982/7982 [==============================] - 1s 155us/step - loss: 0.7989 - acc: 0.8250 - val_loss: 1.0539 - val_acc: 0.7600\n",
            "Epoch 5/10\n",
            "7982/7982 [==============================] - 1s 154us/step - loss: 0.6402 - acc: 0.8626 - val_loss: 0.9765 - val_acc: 0.7930\n",
            "Epoch 6/10\n",
            "7982/7982 [==============================] - 1s 155us/step - loss: 0.5127 - acc: 0.8925 - val_loss: 0.9108 - val_acc: 0.8090\n",
            "Epoch 7/10\n",
            "7982/7982 [==============================] - 1s 155us/step - loss: 0.4126 - acc: 0.9147 - val_loss: 0.8912 - val_acc: 0.8210\n",
            "Epoch 8/10\n",
            "7982/7982 [==============================] - 1s 157us/step - loss: 0.3361 - acc: 0.9285 - val_loss: 0.8714 - val_acc: 0.8240\n",
            "Epoch 9/10\n",
            "7982/7982 [==============================] - 1s 156us/step - loss: 0.2788 - acc: 0.9370 - val_loss: 0.9340 - val_acc: 0.8010\n",
            "Epoch 10/10\n",
            "7982/7982 [==============================] - 1s 157us/step - loss: 0.2320 - acc: 0.9464 - val_loss: 0.9164 - val_acc: 0.8140\n",
            "2246/2246 [==============================] - 0s 92us/step\n"
          ],
          "name": "stdout"
        }
      ]
    },
    {
      "metadata": {
        "id": "7yu0fENjUr50",
        "colab_type": "code",
        "colab": {
          "base_uri": "https://localhost:8080/",
          "height": 34
        },
        "outputId": "02eb5a48-8563-413f-89d5-edfcc1580c77"
      },
      "cell_type": "code",
      "source": [
        "results"
      ],
      "execution_count": 37,
      "outputs": [
        {
          "output_type": "execute_result",
          "data": {
            "text/plain": [
              "[1.2128554795962407, 0.7782724844698171]"
            ]
          },
          "metadata": {
            "tags": []
          },
          "execution_count": 37
        }
      ]
    },
    {
      "metadata": {
        "id": "lTPRkfZkU0-h",
        "colab_type": "code",
        "colab": {
          "base_uri": "https://localhost:8080/",
          "height": 357
        },
        "outputId": "2da95187-5238-4c92-bdb3-6ba0aa679d6e"
      },
      "cell_type": "code",
      "source": [
        "# 现在我们重新训练一个模型，只训练到第9轮\n",
        "\n",
        "model3 = models.Sequential()\n",
        "model3.add(layers.Dense(64, activation='relu', input_shape=(10000,)))\n",
        "model3.add(layers.Dense(64, activation='relu'))\n",
        "model3.add(layers.Dense(46, activation='softmax'))\n",
        "\n",
        "model3.compile(optimizer='rmsprop', loss='categorical_crossentropy', metrics=['accuracy'])\n",
        "\n",
        "model3.fit(partial_x_train,\n",
        "          partial_y_train,\n",
        "          epochs=9, \n",
        "          batch_size=512,\n",
        "          validation_data=(x_val, y_val))\n",
        "\n",
        "results = model.evaluate(x_test, one_hot_test_labels)"
      ],
      "execution_count": 39,
      "outputs": [
        {
          "output_type": "stream",
          "text": [
            "Train on 7982 samples, validate on 1000 samples\n",
            "Epoch 1/9\n",
            "7982/7982 [==============================] - 2s 190us/step - loss: 2.7782 - acc: 0.5021 - val_loss: 1.8350 - val_acc: 0.6200\n",
            "Epoch 2/9\n",
            "7982/7982 [==============================] - 1s 158us/step - loss: 1.4834 - acc: 0.6921 - val_loss: 1.3442 - val_acc: 0.7010\n",
            "Epoch 3/9\n",
            "7982/7982 [==============================] - 1s 157us/step - loss: 1.0787 - acc: 0.7725 - val_loss: 1.1510 - val_acc: 0.7500\n",
            "Epoch 4/9\n",
            "7982/7982 [==============================] - 1s 157us/step - loss: 0.8466 - acc: 0.8222 - val_loss: 1.0447 - val_acc: 0.7720\n",
            "Epoch 5/9\n",
            "7982/7982 [==============================] - 1s 158us/step - loss: 0.6729 - acc: 0.8592 - val_loss: 0.9659 - val_acc: 0.8070\n",
            "Epoch 6/9\n",
            "7982/7982 [==============================] - 1s 159us/step - loss: 0.5376 - acc: 0.8882 - val_loss: 0.9401 - val_acc: 0.8040\n",
            "Epoch 7/9\n",
            "7982/7982 [==============================] - 1s 158us/step - loss: 0.4360 - acc: 0.9088 - val_loss: 0.8885 - val_acc: 0.8180\n",
            "Epoch 8/9\n",
            "7982/7982 [==============================] - 1s 157us/step - loss: 0.3528 - acc: 0.9273 - val_loss: 0.8901 - val_acc: 0.8190\n",
            "Epoch 9/9\n",
            "7982/7982 [==============================] - 1s 157us/step - loss: 0.2920 - acc: 0.9377 - val_loss: 0.8868 - val_acc: 0.8150\n",
            "2246/2246 [==============================] - 0s 101us/step\n"
          ],
          "name": "stdout"
        }
      ]
    },
    {
      "metadata": {
        "id": "eesgphkHVD_X",
        "colab_type": "code",
        "colab": {
          "base_uri": "https://localhost:8080/",
          "height": 34
        },
        "outputId": "27785266-063e-4f69-b576-d104d50b5418"
      },
      "cell_type": "code",
      "source": [
        "results"
      ],
      "execution_count": 40,
      "outputs": [
        {
          "output_type": "execute_result",
          "data": {
            "text/plain": [
              "[1.2128554795962407, 0.7782724844698171]"
            ]
          },
          "metadata": {
            "tags": []
          },
          "execution_count": 40
        }
      ]
    },
    {
      "metadata": {
        "id": "iui7qrOBVOj_",
        "colab_type": "code",
        "colab": {}
      },
      "cell_type": "code",
      "source": [
        "# 使用模型预测结果\n",
        "\n",
        "predictions = model2.predict(x_test)"
      ],
      "execution_count": 0,
      "outputs": []
    },
    {
      "metadata": {
        "id": "0-fhIqnJVVDT",
        "colab_type": "code",
        "colab": {
          "base_uri": "https://localhost:8080/",
          "height": 34
        },
        "outputId": "7755eeaa-e1e3-4cf9-aa7c-093abec74d52"
      },
      "cell_type": "code",
      "source": [
        "predictions[0].argmax()"
      ],
      "execution_count": 43,
      "outputs": [
        {
          "output_type": "execute_result",
          "data": {
            "text/plain": [
              "3"
            ]
          },
          "metadata": {
            "tags": []
          },
          "execution_count": 43
        }
      ]
    },
    {
      "metadata": {
        "id": "qQRK3JVfVYNt",
        "colab_type": "code",
        "colab": {
          "base_uri": "https://localhost:8080/",
          "height": 34
        },
        "outputId": "6bdfa710-2532-45a5-bca4-cc961ae23ab1"
      },
      "cell_type": "code",
      "source": [
        "predictions[0][3]"
      ],
      "execution_count": 44,
      "outputs": [
        {
          "output_type": "execute_result",
          "data": {
            "text/plain": [
              "0.95172834"
            ]
          },
          "metadata": {
            "tags": []
          },
          "execution_count": 44
        }
      ]
    },
    {
      "metadata": {
        "id": "QAtYVPNcVvHP",
        "colab_type": "text"
      },
      "cell_type": "markdown",
      "source": [
        "### 实验总结\n",
        "\n",
        "中间层的维度要足够大，因为信息的传递如果在当前层丢失了，那么后面就再也看不见了。所以隐藏层要足够大，比如最后输出是46维，中间层的神经元个数不能小于46，否则成了信息瓶颈，信息被压缩到小于输出空间，导致最后无法得出正确的结论。\n",
        "\n",
        "### 知识点总结\n",
        "\n",
        "- 对于N类分类问题，网络的最后一层大小是N的Dense层\n",
        "- 单标签多分类问题，网络的最后一层用softmax激活函数，输出N个类别的概率分布\n",
        "- 多分类问题的损失函数几乎都用分类交叉熵\n",
        "- 处理多分类问题标签的两种方法：\n",
        "  - one-hot编码，使用categorical_crossentropy作为损失函数\n",
        "  - 编码为整数张量，使用sparse_categorical_crossentropy损失函数"
      ]
    },
    {
      "metadata": {
        "id": "cc-NIzzVVeX4",
        "colab_type": "code",
        "colab": {}
      },
      "cell_type": "code",
      "source": [
        ""
      ],
      "execution_count": 0,
      "outputs": []
    }
  ]
}