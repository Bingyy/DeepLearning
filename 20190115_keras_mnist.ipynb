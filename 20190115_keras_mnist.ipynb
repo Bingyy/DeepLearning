{
  "nbformat": 4,
  "nbformat_minor": 0,
  "metadata": {
    "colab": {
      "name": "20190115_keras_mnist.ipynb",
      "version": "0.3.2",
      "provenance": [],
      "collapsed_sections": [],
      "include_colab_link": true
    },
    "kernelspec": {
      "name": "python3",
      "display_name": "Python 3"
    }
  },
  "cells": [
    {
      "cell_type": "markdown",
      "metadata": {
        "id": "view-in-github",
        "colab_type": "text"
      },
      "source": [
        "<a href=\"https://colab.research.google.com/github/Bingyy/DeepLearning/blob/master/20190115_keras_mnist.ipynb\" target=\"_parent\"><img src=\"https://colab.research.google.com/assets/colab-badge.svg\" alt=\"Open In Colab\"/></a>"
      ]
    },
    {
      "metadata": {
        "id": "BBJrfz6ZLq_F",
        "colab_type": "code",
        "outputId": "ad1e0f88-7e22-4f76-9357-9e20f362f07d",
        "colab": {
          "base_uri": "https://localhost:8080/",
          "height": 221
        }
      },
      "cell_type": "code",
      "source": [
        "import tensorflow as tf\n",
        "from tensorflow import keras\n",
        "\n",
        "# get data\n",
        "(train_images, train_labels), (test_images, test_labels) = keras.datasets.mnist.load_data()\n",
        "\n",
        "# setup model\n",
        "model = keras.Sequential([\n",
        "    keras.layers.Flatten(input_shape=(28,28)),\n",
        "    keras.layers.Dense(128, activation=tf.nn.relu),\n",
        "    keras.layers.Dense(10, activation=tf.nn.softmax)\n",
        "])\n",
        "\n",
        "# 编译\n",
        "model.compile(optimizer=tf.train.AdamOptimizer(), \n",
        "    loss='sparse_categorical_crossentropy',\n",
        "    metrics=['accuracy'])\n",
        "\n",
        "\n",
        "\n",
        "# train model\n",
        "model.fit(train_images, train_labels, epochs=5)\n",
        "\n",
        "# evaluate\n",
        "test_loss, test_acc = model.evaluate(test_images, test_labels)\n",
        "\n",
        "print('test accuracy:', test_acc)"
      ],
      "execution_count": 0,
      "outputs": [
        {
          "output_type": "stream",
          "text": [
            "Epoch 1/5\n",
            "60000/60000 [==============================] - 5s 80us/step - loss: 11.3406 - acc: 0.2955\n",
            "Epoch 2/5\n",
            "60000/60000 [==============================] - 4s 72us/step - loss: 10.5142 - acc: 0.3471\n",
            "Epoch 3/5\n",
            "60000/60000 [==============================] - 4s 72us/step - loss: 10.3769 - acc: 0.3559\n",
            "Epoch 4/5\n",
            "60000/60000 [==============================] - 4s 71us/step - loss: 10.3940 - acc: 0.3549\n",
            "Epoch 5/5\n",
            "60000/60000 [==============================] - 4s 72us/step - loss: 9.1624 - acc: 0.4311\n",
            "10000/10000 [==============================] - 0s 31us/step\n",
            "test accuracy: 0.4435\n"
          ],
          "name": "stdout"
        }
      ]
    },
    {
      "metadata": {
        "id": "1M_Z4v6kLxyz",
        "colab_type": "code",
        "colab": {}
      },
      "cell_type": "code",
      "source": [
        "# 加载MNIST数据集 -- 《深度学习》第二章案例\n",
        "from keras.datasets import mnist\n",
        "(train_images, train_labels), (test_images, test_labels) = mnist.load_data()"
      ],
      "execution_count": 0,
      "outputs": []
    },
    {
      "metadata": {
        "id": "EOLGvKmmnIjH",
        "colab_type": "code",
        "colab": {
          "base_uri": "https://localhost:8080/",
          "height": 34
        },
        "outputId": "ff5af5c7-3ad6-478e-a22d-e732c0c8dc4d"
      },
      "cell_type": "code",
      "source": [
        "train_images.shape"
      ],
      "execution_count": 15,
      "outputs": [
        {
          "output_type": "execute_result",
          "data": {
            "text/plain": [
              "(60000, 28, 28)"
            ]
          },
          "metadata": {
            "tags": []
          },
          "execution_count": 15
        }
      ]
    },
    {
      "metadata": {
        "id": "xNmQ-SUdnLsM",
        "colab_type": "code",
        "colab": {
          "base_uri": "https://localhost:8080/",
          "height": 34
        },
        "outputId": "e0441990-dae2-447a-8bce-88baf2615427"
      },
      "cell_type": "code",
      "source": [
        "train_labels.shape"
      ],
      "execution_count": 16,
      "outputs": [
        {
          "output_type": "execute_result",
          "data": {
            "text/plain": [
              "(60000,)"
            ]
          },
          "metadata": {
            "tags": []
          },
          "execution_count": 16
        }
      ]
    },
    {
      "metadata": {
        "id": "8AIAnlXnnNye",
        "colab_type": "code",
        "colab": {}
      },
      "cell_type": "code",
      "source": [
        "# 将训练数据和标签关联在一起\n",
        "from keras import models, layers\n",
        "\n",
        "net = models.Sequential()\n",
        "net.add(layers.Dense(512, activation='relu', input_shape=(28*28,))) # 直接输入展平的张量\n",
        "net.add(layers.Dense(10,activation='softmax')) # 最后输出10个结果"
      ],
      "execution_count": 0,
      "outputs": []
    },
    {
      "metadata": {
        "id": "O_F8m0o-noLe",
        "colab_type": "code",
        "colab": {}
      },
      "cell_type": "code",
      "source": [
        "# 编译网络\n",
        "net.compile(optimizer='rmsprop',\n",
        "           loss='categorical_crossentropy',\n",
        "           metrics=['accuracy'])"
      ],
      "execution_count": 0,
      "outputs": []
    },
    {
      "metadata": {
        "id": "K3vCEqSSn4Bw",
        "colab_type": "code",
        "colab": {}
      },
      "cell_type": "code",
      "source": [
        "# 训练数据准备\n",
        "train_images = train_images.reshape((60000, 28 * 28))\n",
        "train_images = train_images.astype('float32') / 255 # 数据归一化\n",
        "\n",
        "test_images = test_images.reshape((10000, 28 * 28))\n",
        "test_images = test_images.astype('float32') / 255 # 数据归一化\n",
        "\n",
        "# 对标签进行分类编码：变成one-hot编码\n",
        "from keras.utils import to_categorical\n",
        "\n",
        "train_labels_final = to_categorical(train_labels)\n",
        "test_labels_final = to_categorical(test_labels)"
      ],
      "execution_count": 0,
      "outputs": []
    },
    {
      "metadata": {
        "id": "QXgaWSTxoi6J",
        "colab_type": "code",
        "colab": {
          "base_uri": "https://localhost:8080/",
          "height": 34
        },
        "outputId": "ed630f23-bb61-4159-d4fb-30f0ea281f63"
      },
      "cell_type": "code",
      "source": [
        "train_images.shape"
      ],
      "execution_count": 20,
      "outputs": [
        {
          "output_type": "execute_result",
          "data": {
            "text/plain": [
              "(60000, 784)"
            ]
          },
          "metadata": {
            "tags": []
          },
          "execution_count": 20
        }
      ]
    },
    {
      "metadata": {
        "id": "tf0J7hSyoktj",
        "colab_type": "code",
        "colab": {
          "base_uri": "https://localhost:8080/",
          "height": 34
        },
        "outputId": "d711f170-c014-4c05-fd14-337966dbb1d3"
      },
      "cell_type": "code",
      "source": [
        "train_labels[0]"
      ],
      "execution_count": 21,
      "outputs": [
        {
          "output_type": "execute_result",
          "data": {
            "text/plain": [
              "5"
            ]
          },
          "metadata": {
            "tags": []
          },
          "execution_count": 21
        }
      ]
    },
    {
      "metadata": {
        "id": "XoHxVXX_p_Xj",
        "colab_type": "code",
        "colab": {
          "base_uri": "https://localhost:8080/",
          "height": 34
        },
        "outputId": "59f7c8ea-5f31-44ce-e197-c1fa6b5c1049"
      },
      "cell_type": "code",
      "source": [
        "train_labels_final.shape"
      ],
      "execution_count": 22,
      "outputs": [
        {
          "output_type": "execute_result",
          "data": {
            "text/plain": [
              "(60000, 10)"
            ]
          },
          "metadata": {
            "tags": []
          },
          "execution_count": 22
        }
      ]
    },
    {
      "metadata": {
        "id": "a3IMHjiGp_hO",
        "colab_type": "code",
        "colab": {}
      },
      "cell_type": "code",
      "source": [
        ""
      ],
      "execution_count": 0,
      "outputs": []
    },
    {
      "metadata": {
        "id": "7EA-dIEQomgw",
        "colab_type": "code",
        "colab": {
          "base_uri": "https://localhost:8080/",
          "height": 187
        },
        "outputId": "b2ddf045-5985-4c16-8f17-7391a8210386"
      },
      "cell_type": "code",
      "source": [
        "# 拟合网络：训练开始\n",
        "history = net.fit(train_images, train_labels_final, epochs=5, batch_size=128)"
      ],
      "execution_count": 25,
      "outputs": [
        {
          "output_type": "stream",
          "text": [
            "Epoch 1/5\n",
            "60000/60000 [==============================] - 5s 78us/step - loss: 0.0288 - acc: 0.9916\n",
            "Epoch 2/5\n",
            "60000/60000 [==============================] - 5s 80us/step - loss: 0.0221 - acc: 0.9932\n",
            "Epoch 3/5\n",
            "60000/60000 [==============================] - 5s 78us/step - loss: 0.0171 - acc: 0.9950\n",
            "Epoch 4/5\n",
            "60000/60000 [==============================] - 5s 79us/step - loss: 0.0133 - acc: 0.9961\n",
            "Epoch 5/5\n",
            "60000/60000 [==============================] - 5s 80us/step - loss: 0.0100 - acc: 0.9970\n"
          ],
          "name": "stdout"
        }
      ]
    },
    {
      "metadata": {
        "id": "mlWHS2HXo0mp",
        "colab_type": "code",
        "colab": {
          "base_uri": "https://localhost:8080/",
          "height": 34
        },
        "outputId": "20d84875-c2de-4314-c592-bf0e23dfe7e7"
      },
      "cell_type": "code",
      "source": [
        "# 保存模型\n",
        "import os\n",
        "model_name = \"keras_mnist_trained_model.h5\"\n",
        "save_dir = os.path.join(os.getcwd(), 'saved_models')\n",
        "\n",
        "if not os.path.isdir(save_dir):\n",
        "  os.makedirs(save_dir)\n",
        "  \n",
        "model_path = os.path.join(save_dir, model_name)\n",
        "net.save(model_path)\n",
        "print(\"模型保存在：%s\" % model_path)\n"
      ],
      "execution_count": 27,
      "outputs": [
        {
          "output_type": "stream",
          "text": [
            "模型保存在：/content/saved_models/keras_mnist_trained_model.h5\n"
          ],
          "name": "stdout"
        }
      ]
    },
    {
      "metadata": {
        "id": "V9luIRzhq97h",
        "colab_type": "code",
        "colab": {
          "base_uri": "https://localhost:8080/",
          "height": 34
        },
        "outputId": "5f049b51-4b60-4128-928e-92c4ace5c7d0"
      },
      "cell_type": "code",
      "source": [
        "# 评估模型\n",
        "\n",
        "test_loss, test_acc = net.evaluate(test_images, test_labels_final)"
      ],
      "execution_count": 28,
      "outputs": [
        {
          "output_type": "stream",
          "text": [
            "10000/10000 [==============================] - 1s 58us/step\n"
          ],
          "name": "stdout"
        }
      ]
    },
    {
      "metadata": {
        "id": "KGGTJdJirPcA",
        "colab_type": "code",
        "colab": {
          "base_uri": "https://localhost:8080/",
          "height": 34
        },
        "outputId": "40ae4fc2-1aa1-4c50-c013-3dd84e3e59a8"
      },
      "cell_type": "code",
      "source": [
        "print('test_loss: ', test_loss)"
      ],
      "execution_count": 29,
      "outputs": [
        {
          "output_type": "stream",
          "text": [
            "test_loss:  0.06558757138366236\n"
          ],
          "name": "stdout"
        }
      ]
    },
    {
      "metadata": {
        "id": "fbX3bpcarUYo",
        "colab_type": "code",
        "colab": {
          "base_uri": "https://localhost:8080/",
          "height": 34
        },
        "outputId": "cd77e97e-c8cc-4d95-bd1d-72ed801c246a"
      },
      "cell_type": "code",
      "source": [
        "print('test_acc: ', test_acc)"
      ],
      "execution_count": 30,
      "outputs": [
        {
          "output_type": "stream",
          "text": [
            "test_acc:  0.9831\n"
          ],
          "name": "stdout"
        }
      ]
    },
    {
      "metadata": {
        "id": "d63g3QU5rWpF",
        "colab_type": "code",
        "colab": {
          "base_uri": "https://localhost:8080/",
          "height": 34
        },
        "outputId": "ffbd5071-da79-49c7-b4c2-3c29d73387a5"
      },
      "cell_type": "code",
      "source": [
        "# 使用模型进行测试数据集预测\n",
        "# res = net.predict(test_images[0])\n",
        "# test_images.shape # (10000, 784)\n",
        "test_images[0].shape # (784,)\n",
        "to_be_predicted = test_images[0].reshape((1,784)) # .reshape([1,784])\n",
        "res = net.predict(to_be_predicted) # array([[2.7967730e-13, 4.2122917e-16, 6.3757026e-09, 1.7213833e-07,\n",
        "        # 6.7121612e-19, 6.7293619e-12, 3.6417281e-21, 9.9999988e-01,\n",
        "       #  7.6961736e-12, 5.2838995e-09]], dtype=float32)\n",
        "res.argmax() # 下标从0开始"
      ],
      "execution_count": 44,
      "outputs": [
        {
          "output_type": "execute_result",
          "data": {
            "text/plain": [
              "7"
            ]
          },
          "metadata": {
            "tags": []
          },
          "execution_count": 44
        }
      ]
    },
    {
      "metadata": {
        "id": "uwdkTp04sRcr",
        "colab_type": "code",
        "colab": {
          "base_uri": "https://localhost:8080/",
          "height": 347
        },
        "outputId": "6bac8d08-c1db-4d32-e479-38e6785be6ef"
      },
      "cell_type": "code",
      "source": [
        "# 显示图片\n",
        "import matplotlib.pyplot as plt\n",
        "# plt.imshow(test_images[0].reshape((28,28,1)))\n",
        "\n",
        "im = test_images[0].reshape(28, 28)\n",
        "fig = plt.figure()\n",
        "plotwindow = fig.add_subplot(111)\n",
        "plt.axis('off')\n",
        "plt.imshow(im, cmap='gray')\n",
        "plt.show()\n",
        "# plt.savefig(\"test.png\")  # 保存成文件\n",
        "plt.close()"
      ],
      "execution_count": 43,
      "outputs": [
        {
          "output_type": "display_data",
          "data": {
            "image/png": "[encoded data removed]",
            "text/plain": [
              "<Figure size 576x396 with 1 Axes>"
            ]
          },
          "metadata": {
            "tags": []
          }
        }
      ]
    },
    {
      "metadata": {
        "id": "lhUZZAmhsSCF",
        "colab_type": "code",
        "colab": {}
      },
      "cell_type": "code",
      "source": [
        ""
      ],
      "execution_count": 0,
      "outputs": []
    },
    {
      "metadata": {
        "id": "XsfMPcbQreqA",
        "colab_type": "code",
        "colab": {
          "base_uri": "https://localhost:8080/",
          "height": 204
        },
        "outputId": "7db76544-7a42-4da4-d910-0e5f1572f337"
      },
      "cell_type": "code",
      "source": [
        "net.summary()"
      ],
      "execution_count": 32,
      "outputs": [
        {
          "output_type": "stream",
          "text": [
            "_________________________________________________________________\n",
            "Layer (type)                 Output Shape              Param #   \n",
            "=================================================================\n",
            "dense_3 (Dense)              (None, 512)               401920    \n",
            "_________________________________________________________________\n",
            "dense_4 (Dense)              (None, 10)                5130      \n",
            "=================================================================\n",
            "Total params: 407,050\n",
            "Trainable params: 407,050\n",
            "Non-trainable params: 0\n",
            "_________________________________________________________________\n"
          ],
          "name": "stdout"
        }
      ]
    },
    {
      "metadata": {
        "id": "g5nwnFRRriqO",
        "colab_type": "code",
        "colab": {}
      },
      "cell_type": "code",
      "source": [
        ""
      ],
      "execution_count": 0,
      "outputs": []
    }
  ]
}